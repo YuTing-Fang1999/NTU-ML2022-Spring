{
 "cells": [
  {
   "cell_type": "markdown",
   "metadata": {
    "id": "OYlaRwNu7ojq"
   },
   "source": [
    "# **Homework 2 Phoneme Classification**\n",
    "\n",
    "* Slides: https://docs.google.com/presentation/d/1v6HkBWiJb8WNDcJ9_-2kwVstxUWml87b9CnA16Gdoio/edit?usp=sharing\n",
    "* Kaggle: https://www.kaggle.com/c/ml2022spring-hw2\n",
    "* Video: TBA\n"
   ]
  },
  {
   "cell_type": "code",
   "execution_count": 1,
   "metadata": {
    "colab": {
     "base_uri": "https://localhost:8080/"
    },
    "id": "mLQI0mNcmM-O",
    "outputId": "7d5b4d81-9438-4d50-8153-cd235c47ee21"
   },
   "outputs": [
    {
     "name": "stdout",
     "output_type": "stream",
     "text": [
      "Sat Mar 05 09:43:53 2022       \n",
      "+-----------------------------------------------------------------------------+\n",
      "| NVIDIA-SMI 456.71       Driver Version: 456.71       CUDA Version: 11.1     |\n",
      "|-------------------------------+----------------------+----------------------+\n",
      "| GPU  Name            TCC/WDDM | Bus-Id        Disp.A | Volatile Uncorr. ECC |\n",
      "| Fan  Temp  Perf  Pwr:Usage/Cap|         Memory-Usage | GPU-Util  Compute M. |\n",
      "|===============================+======================+======================|\n",
      "|   0  GeForce RTX 208... WDDM  | 00000000:01:00.0  On |                  N/A |\n",
      "| 40%   45C    P3    39W / 250W |   3566MiB /  8192MiB |      6%      Default |\n",
      "+-------------------------------+----------------------+----------------------+\n",
      "                                                                               \n",
      "+-----------------------------------------------------------------------------+\n",
      "| Processes:                                                                  |\n",
      "|  GPU   GI   CI        PID   Type   Process name                  GPU Memory |\n",
      "|        ID   ID                                                   Usage      |\n",
      "|=============================================================================|\n",
      "|    0   N/A  N/A      1292    C+G   Insufficient Permissions        N/A      |\n",
      "|    0   N/A  N/A      2232    C+G   ...5n1h2txyewy\\SearchApp.exe    N/A      |\n",
      "|    0   N/A  N/A      4528    C+G   ...me\\Application\\chrome.exe    N/A      |\n",
      "|    0   N/A  N/A      5952      C   ...ython\\Python39\\python.exe    N/A      |\n",
      "|    0   N/A  N/A      8424    C+G   ...artMenuExperienceHost.exe    N/A      |\n",
      "|    0   N/A  N/A      8860    C+G   C:\\Windows\\explorer.exe         N/A      |\n",
      "|    0   N/A  N/A     10132    C+G   ...y\\ShellExperienceHost.exe    N/A      |\n",
      "|    0   N/A  N/A     10144    C+G   Insufficient Permissions        N/A      |\n",
      "|    0   N/A  N/A     10508    C+G   ...nputApp\\TextInputHost.exe    N/A      |\n",
      "|    0   N/A  N/A     11420    C+G   ...5n1h2txyewy\\SearchApp.exe    N/A      |\n",
      "|    0   N/A  N/A     13456    C+G   ...ekyb3d8bbwe\\YourPhone.exe    N/A      |\n",
      "|    0   N/A  N/A     13808    C+G   ...ge\\Application\\msedge.exe    N/A      |\n",
      "|    0   N/A  N/A     14208    C+G   ...lPanel\\SystemSettings.exe    N/A      |\n",
      "+-----------------------------------------------------------------------------+\n"
     ]
    }
   ],
   "source": [
    "!nvidia-smi"
   ]
  },
  {
   "cell_type": "markdown",
   "metadata": {
    "id": "KVUGfWTo7_Oj"
   },
   "source": [
    "## Download Data\n",
    "Download data from google drive, then unzip it.\n",
    "\n",
    "You should have\n",
    "- `libriphone/train_split.txt`\n",
    "- `libriphone/train_labels`\n",
    "- `libriphone/test_split.txt`\n",
    "- `libriphone/feat/train/*.pt`: training feature<br>\n",
    "- `libriphone/feat/test/*.pt`:  testing feature<br>\n",
    "\n",
    "after running the following block.\n",
    "\n",
    "> **Notes: if the google drive link is dead, you can download the data directly from [Kaggle](https://www.kaggle.com/c/ml2022spring-hw2/data) and upload it to the workspace**\n"
   ]
  },
  {
   "cell_type": "markdown",
   "metadata": {
    "id": "Bj5jYXsD9Ef3"
   },
   "source": [
    "### Download train/test metadata"
   ]
  },
  {
   "cell_type": "code",
   "execution_count": 2,
   "metadata": {
    "colab": {
     "base_uri": "https://localhost:8080/"
    },
    "id": "OzkiMEcC3Foq",
    "outputId": "a5156080-e0cf-4937-a5c7-da4374371153"
   },
   "outputs": [],
   "source": [
    "# !pip install --upgrade gdown\n",
    "\n",
    "# Main link\n",
    "# !gdown --id '1o6Ag-G3qItSmYhTheX6DYiuyNzWyHyTc' --output libriphone.zip\n",
    "\n",
    "# Backup link 1\n",
    "# !gdown --id '1R1uQYi4QpX0tBfUWt2mbZcncdBsJkxeW' --output libriphone.zip\n",
    "\n",
    "# Backup link 2\n",
    "# !wget -O libriphone.zip \"https://www.dropbox.com/s/wqww8c5dbrl2ka9/libriphone.zip?dl=1\"\n",
    "\n",
    "# Backup link 3\n",
    "# !wget -O libriphone.zip \"https://www.dropbox.com/s/p2ljbtb2bam13in/libriphone.zip?dl=1\"\n",
    "\n",
    "# # Backup link 4\n",
    "# !wget -O libriphone.zip \"https://www.dropbox.com/s/7j55t90mocynynt/libriphone.zip?dl=1\"\n",
    "\n",
    "# # Backup link 5\n",
    "# !wget -O libriphone.zip \"https://www.dropbox.com/s/sgf6hkjhrqxtw0k/libriphone.zip?dl=1\"\n",
    "\n",
    "# # Backup link 6\n",
    "# !wget -O libriphone.zip \"https://www.dropbox.com/s/lajkqgw19v9lrgn/libriphone.zip?dl=1\"\n",
    "\n",
    "# !unzip -q libriphone.zip\n",
    "# !ls libriphone"
   ]
  },
  {
   "cell_type": "markdown",
   "metadata": {
    "id": "_L_4anls8Drv"
   },
   "source": [
    "### Preparing Data"
   ]
  },
  {
   "cell_type": "markdown",
   "metadata": {
    "id": "po4N3C-AWuWl"
   },
   "source": [
    "**Helper functions to pre-process the training data from raw MFCC features of each utterance.**\n",
    "\n",
    "A phoneme may span several frames and is dependent to past and future frames. \\\n",
    "Hence we concatenate neighboring phonemes for training to achieve higher accuracy. The **concat_feat** function concatenates past and future k frames (total 2k+1 = n frames), and we predict the center frame.\n",
    "\n",
    "Feel free to modify the data preprocess functions, but **do not drop any frame** (if you modify the functions, remember to check that the number of frames are the same as mentioned in the slides)"
   ]
  },
  {
   "cell_type": "code",
   "execution_count": 3,
   "metadata": {},
   "outputs": [],
   "source": [
    "logToWandb = False\n",
    "if logToWandb: \n",
    "    import wandb\n",
    "    "
   ]
  },
  {
   "cell_type": "markdown",
   "metadata": {
    "id": "TlIq8JeqvvHC"
   },
   "source": [
    "## Hyper-parameters"
   ]
  },
  {
   "cell_type": "code",
   "execution_count": 4,
   "metadata": {
    "id": "iIHn79Iav1ri"
   },
   "outputs": [],
   "source": [
    "import numpy as np\n",
    "# data prarameters\n",
    "concat_nframes = 37              # the number of frames to concat with, n must be odd (total 2k+1 = n frames)\n",
    "train_ratio = 0.8               # the ratio of data used for training, the rest will be used for validation\n",
    "\n",
    "# training parameters\n",
    "seed = np.random.randint(1, 1000) # random seed\n",
    "# seed = 328\n",
    "batch_size = 256                # batch size\n",
    "num_epoch = 1000                   # the number of training epoch\n",
    "learning_rate = 1e-5          # learning rate\n",
    "model_path = './model.ckpt'     # the path where the checkpoint will be saved\n",
    "early_stop = 6\n",
    "\n",
    "# model parameters\n",
    "input_dim = 39 * concat_nframes # the input dim of the model, you should not change the value\n",
    "hidden_layers = 7               # the number of hidden layers\n",
    "hidden_dim = 1024                # the hidden dim\n",
    "drop_rate = 0.2"
   ]
  },
  {
   "cell_type": "code",
   "execution_count": 5,
   "metadata": {
    "id": "IJjLT8em-y9G"
   },
   "outputs": [],
   "source": [
    "import os\n",
    "import random\n",
    "import pandas as pd\n",
    "import torch\n",
    "from tqdm import tqdm\n",
    "\n",
    "def load_feat(path):\n",
    "    feat = torch.load(path)\n",
    "    return feat\n",
    "\n",
    "def shift(x, n):\n",
    "    if n < 0:\n",
    "        left = x[0].repeat(-n, 1)\n",
    "        right = x[:n]\n",
    "\n",
    "    elif n > 0:\n",
    "        right = x[-1].repeat(n, 1)\n",
    "        left = x[n:]\n",
    "    else:\n",
    "        return x\n",
    "\n",
    "    return torch.cat((left, right), dim=0)\n",
    "\n",
    "def concat_feat(x, concat_n):\n",
    "    assert concat_n % 2 == 1 # n must be odd\n",
    "    if concat_n < 2:\n",
    "        return x\n",
    "    seq_len, feature_dim = x.size(0), x.size(1)\n",
    "    x = x.repeat(1, concat_n) \n",
    "    x = x.view(seq_len, concat_n, feature_dim).permute(1, 0, 2) # concat_n, seq_len, feature_dim\n",
    "    mid = (concat_n // 2)\n",
    "    for r_idx in range(1, mid+1):\n",
    "        x[mid + r_idx, :] = shift(x[mid + r_idx], r_idx)\n",
    "        x[mid - r_idx, :] = shift(x[mid - r_idx], -r_idx)\n",
    "\n",
    "    return x.permute(1, 0, 2).view(seq_len, concat_n * feature_dim)\n",
    "\n",
    "def preprocess_data(split, feat_dir, phone_path, concat_nframes, train_ratio=0.8, train_val_seed=1337):\n",
    "    class_num = 41 # NOTE: pre-computed, should not need change\n",
    "    mode = 'train' if (split == 'train' or split == 'val') else 'test'\n",
    "\n",
    "    label_dict = {}\n",
    "    if mode != 'test':\n",
    "      phone_file = open(os.path.join(phone_path, f'{mode}_labels.txt')).readlines()\n",
    "\n",
    "      for line in phone_file:\n",
    "          line = line.strip('\\n').split(' ')\n",
    "          label_dict[line[0]] = [int(p) for p in line[1:]]\n",
    "\n",
    "    if split == 'train' or split == 'val':\n",
    "        # split training and validation data\n",
    "        usage_list = open(os.path.join(phone_path, 'train_split.txt')).readlines()\n",
    "        random.seed(train_val_seed)\n",
    "        random.shuffle(usage_list)\n",
    "        percent = int(len(usage_list) * train_ratio)\n",
    "        usage_list = usage_list[:percent] if split == 'train' else usage_list[percent:]\n",
    "    elif split == 'test':\n",
    "        usage_list = open(os.path.join(phone_path, 'test_split.txt')).readlines()\n",
    "    else:\n",
    "        raise ValueError('Invalid \\'split\\' argument for dataset: PhoneDataset!')\n",
    "\n",
    "    usage_list = [line.strip('\\n') for line in usage_list]\n",
    "    print('[Dataset] - # phone classes: ' + str(class_num) + ', number of utterances for ' + split + ': ' + str(len(usage_list)))\n",
    "\n",
    "    max_len = 3000000\n",
    "    X = torch.empty(max_len, 39 * concat_nframes)\n",
    "    if mode != 'test':\n",
    "      y = torch.empty(max_len, dtype=torch.long)\n",
    "\n",
    "    idx = 0\n",
    "    for i, fname in tqdm(enumerate(usage_list)):\n",
    "        feat = load_feat(os.path.join(feat_dir, mode, f'{fname}.pt'))\n",
    "        cur_len = len(feat)\n",
    "        feat = concat_feat(feat, concat_nframes)\n",
    "        if mode != 'test':\n",
    "          label = torch.LongTensor(label_dict[fname])\n",
    "\n",
    "        X[idx: idx + cur_len, :] = feat\n",
    "        if mode != 'test':\n",
    "          y[idx: idx + cur_len] = label\n",
    "\n",
    "        idx += cur_len\n",
    "\n",
    "    X = X[:idx, :]\n",
    "    if mode != 'test':\n",
    "      y = y[:idx]\n",
    "\n",
    "    print(f'[INFO] {split} set')\n",
    "    print(X.shape)\n",
    "    if mode != 'test':\n",
    "      print(y.shape)\n",
    "      return X, y\n",
    "    else:\n",
    "      return X\n"
   ]
  },
  {
   "cell_type": "code",
   "execution_count": 6,
   "metadata": {
    "colab": {
     "base_uri": "https://localhost:8080/"
    },
    "id": "CfRUEgC0GxUV",
    "outputId": "75dcb672-a97d-43ff-b0f1-cb23d27fe65a"
   },
   "outputs": [
    {
     "name": "stdout",
     "output_type": "stream",
     "text": [
      "DEVICE: cuda:0\n"
     ]
    }
   ],
   "source": [
    "device = 'cuda:0' if torch.cuda.is_available() else 'cpu'\n",
    "print(f'DEVICE: {device}')"
   ]
  },
  {
   "cell_type": "markdown",
   "metadata": {
    "id": "us5XW_x6udZQ"
   },
   "source": [
    "## Define Dataset"
   ]
  },
  {
   "cell_type": "code",
   "execution_count": 7,
   "metadata": {
    "id": "Fjf5EcmJtf4e"
   },
   "outputs": [],
   "source": [
    "import torch\n",
    "from torch.utils.data import Dataset\n",
    "from torch.utils.data import DataLoader\n",
    "\n",
    "class LibriDataset(Dataset):\n",
    "    def __init__(self, X, y=None):\n",
    "        self.data = X\n",
    "        if y is not None:\n",
    "            self.label = torch.LongTensor(y)\n",
    "        else:\n",
    "            self.label = None\n",
    "\n",
    "    def __getitem__(self, idx):\n",
    "        if self.label is not None:\n",
    "            return self.data[idx], self.label[idx]\n",
    "        else:\n",
    "            return self.data[idx]\n",
    "\n",
    "    def __len__(self):\n",
    "        return len(self.data)\n"
   ]
  },
  {
   "cell_type": "markdown",
   "metadata": {
    "id": "IRqKNvNZwe3V"
   },
   "source": [
    "## Define Model"
   ]
  },
  {
   "cell_type": "code",
   "execution_count": 8,
   "metadata": {
    "id": "Bg-GRd7ywdrL"
   },
   "outputs": [],
   "source": [
    "import torch\n",
    "import torch.nn as nn\n",
    "import torch.nn.functional as F\n",
    "\n",
    "class BasicBlock(nn.Module):\n",
    "    def __init__(self, input_dim, output_dim, drop_rate):\n",
    "        super(BasicBlock, self).__init__()\n",
    "\n",
    "        self.block = nn.Sequential(\n",
    "            nn.Linear(input_dim, output_dim),\n",
    "            nn.BatchNorm1d(output_dim),\n",
    "            nn.Dropout(drop_rate),\n",
    "            nn.ReLU(),\n",
    "        )\n",
    "\n",
    "    def forward(self, x):\n",
    "        x = self.block(x)\n",
    "        return x\n",
    "\n",
    "\n",
    "class Classifier(nn.Module):\n",
    "    def __init__(self, input_dim, hidden_layers, hidden_dim, drop_rate, output_dim=41):\n",
    "        super(Classifier, self).__init__()\n",
    "\n",
    "        self.fc = nn.Sequential(\n",
    "            BasicBlock(input_dim, hidden_dim, drop_rate),\n",
    "            *[BasicBlock(hidden_dim, hidden_dim, drop_rate) for _ in range(hidden_layers)],\n",
    "            nn.Linear(hidden_dim, output_dim)\n",
    "        )\n",
    "\n",
    "    def forward(self, x):\n",
    "        x = self.fc(x)\n",
    "        return x\n",
    "\n",
    "# Recurrent neural network (many-to-one)\n",
    "# class RNN(nn.Module):\n",
    "#     def __init__(self, input_size, hidden_size, num_layers, num_classes, drop_rate):\n",
    "#         super(RNN, self).__init__()\n",
    "        \n",
    "#         self.hidden_size = hidden_size\n",
    "#         self.num_layers = num_layers\n",
    "#         self.lstm = nn.LSTM(input_size, hidden_size, num_layers, batch_first=True, dropout=drop_rate)\n",
    "#         self.fc = nn.Linear(hidden_size, num_classes)\n",
    "        \n",
    "        \n",
    "#     def init_state(self, batch_size):\n",
    "#         return (torch.zeros(self.num_layers, batch_size, self.hidden_size).to(device),\n",
    "#                 torch.zeros(self.num_layers, batch_size, self.hidden_size).to(device))\n",
    "    \n",
    "#     def forward(self, x):\n",
    "#         # Set initial hidden and cell states \n",
    "#         hs = self.init_state(x.shape[0])\n",
    "# #         print(x.shape) #128,507\n",
    "#         x = x.view(len(x), 1, -1)\n",
    "# #         print(x.shape) #128,1,507\n",
    "#         x, hs = self.lstm(x,hs)\n",
    "# #         print(x.shape) #128,1,784\n",
    "#         # Decode the hidden state of the last time step\n",
    "#         x = x.view(x.shape[0], x.shape[2])\n",
    "# #         print(x.shape)  #128, 784\n",
    "#         x = self.fc(x)  #128, 41\n",
    "#         return x"
   ]
  },
  {
   "cell_type": "markdown",
   "metadata": {
    "id": "IIUFRgG5yoDn"
   },
   "source": [
    "## Prepare dataset and model"
   ]
  },
  {
   "cell_type": "code",
   "execution_count": 9,
   "metadata": {
    "id": "88xPiUnm0tAd"
   },
   "outputs": [],
   "source": [
    "import numpy as np\n",
    "\n",
    "#fix seed\n",
    "def same_seeds(seed):\n",
    "    torch.manual_seed(seed)\n",
    "    if torch.cuda.is_available():\n",
    "        torch.cuda.manual_seed(seed)\n",
    "        torch.cuda.manual_seed_all(seed)  \n",
    "    np.random.seed(seed)  \n",
    "    torch.backends.cudnn.benchmark = False\n",
    "    torch.backends.cudnn.deterministic = True"
   ]
  },
  {
   "cell_type": "code",
   "execution_count": 10,
   "metadata": {
    "colab": {
     "base_uri": "https://localhost:8080/"
    },
    "id": "c1zI3v5jyrDn",
    "outputId": "7fd90470-ef44-404a-a043-cb8e83fd1801"
   },
   "outputs": [
    {
     "name": "stdout",
     "output_type": "stream",
     "text": [
      "[Dataset] - # phone classes: 41, number of utterances for train: 3428\n"
     ]
    },
    {
     "name": "stderr",
     "output_type": "stream",
     "text": [
      "3428it [00:13, 261.72it/s]\n"
     ]
    },
    {
     "name": "stdout",
     "output_type": "stream",
     "text": [
      "[INFO] train set\n",
      "torch.Size([2116368, 1443])\n",
      "torch.Size([2116368])\n",
      "[Dataset] - # phone classes: 41, number of utterances for val: 858\n"
     ]
    },
    {
     "name": "stderr",
     "output_type": "stream",
     "text": [
      "858it [00:03, 253.60it/s]\n"
     ]
    },
    {
     "name": "stdout",
     "output_type": "stream",
     "text": [
      "[INFO] val set\n",
      "torch.Size([527790, 1443])\n",
      "torch.Size([527790])\n"
     ]
    }
   ],
   "source": [
    "import gc\n",
    "\n",
    "# preprocess data\n",
    "train_X, train_y = preprocess_data(split='train', feat_dir='./libriphone/feat', phone_path='./libriphone', concat_nframes=concat_nframes, train_ratio=train_ratio)\n",
    "val_X, val_y = preprocess_data(split='val', feat_dir='./libriphone/feat', phone_path='./libriphone', concat_nframes=concat_nframes, train_ratio=train_ratio)\n",
    "\n",
    "# get dataset\n",
    "train_set = LibriDataset(train_X, train_y)\n",
    "val_set = LibriDataset(val_X, val_y)\n",
    "\n",
    "# remove raw feature to save memory\n",
    "del train_X, train_y, val_X, val_y\n",
    "gc.collect()\n",
    "\n",
    "# get dataloader\n",
    "train_loader = DataLoader(train_set, batch_size=batch_size, shuffle=True)\n",
    "val_loader = DataLoader(val_set, batch_size=batch_size, shuffle=False)"
   ]
  },
  {
   "cell_type": "code",
   "execution_count": 11,
   "metadata": {
    "id": "QTp3ZXg1yO9Y"
   },
   "outputs": [],
   "source": [
    "# fix random seed\n",
    "same_seeds(seed)\n",
    "\n",
    "# create model, define a loss function, and optimizer\n",
    "model = Classifier(input_dim=input_dim, hidden_layers=hidden_layers, hidden_dim=hidden_dim, drop_rate=drop_rate).to(device)\n",
    "# model = RNN(input_size=input_dim, hidden_size=hidden_dim, num_layers=hidden_layers, num_classes=41, drop_rate=drop_rate).to(device)\n",
    "\n",
    "criterion = nn.CrossEntropyLoss() \n",
    "optimizer = torch.optim.AdamW(model.parameters(), lr=learning_rate)"
   ]
  },
  {
   "cell_type": "code",
   "execution_count": 12,
   "metadata": {},
   "outputs": [
    {
     "name": "stderr",
     "output_type": "stream",
     "text": [
      "\u001b[34m\u001b[1mwandb\u001b[0m: Currently logged in as: \u001b[33myuting\u001b[0m (use `wandb login --relogin` to force relogin)\n",
      "\u001b[34m\u001b[1mwandb\u001b[0m: wandb version 0.12.11 is available!  To upgrade, please run:\n",
      "\u001b[34m\u001b[1mwandb\u001b[0m:  $ pip install wandb --upgrade\n"
     ]
    },
    {
     "data": {
      "text/html": [
       "\n",
       "                    Syncing run <strong><a href=\"https://wandb.ai/yuting/ML2022Spring_HW2/runs/nabpx51y\" target=\"_blank\">637</a></strong> to <a href=\"https://wandb.ai/yuting/ML2022Spring_HW2\" target=\"_blank\">Weights & Biases</a> (<a href=\"https://docs.wandb.com/integrations/jupyter.html\" target=\"_blank\">docs</a>).<br/>\n",
       "\n",
       "                "
      ],
      "text/plain": [
       "<IPython.core.display.HTML object>"
      ]
     },
     "metadata": {},
     "output_type": "display_data"
    }
   ],
   "source": [
    "if logToWandb:\n",
    "    wandb.init(\n",
    "      # Set the project where this run will be logged\n",
    "      project=\"ML2022Spring_HW2\",\n",
    "      name=str(seed)  \n",
    "    )\n",
    "    wandb.watch(model)"
   ]
  },
  {
   "cell_type": "markdown",
   "metadata": {
    "id": "pwWH1KIqzxEr"
   },
   "source": [
    "## Training"
   ]
  },
  {
   "cell_type": "code",
   "execution_count": 13,
   "metadata": {
    "colab": {
     "base_uri": "https://localhost:8080/"
    },
    "id": "CdMWsBs7zzNs",
    "outputId": "cfb0046d-52a5-4a90-c073-f4091e8b230e"
   },
   "outputs": [
    {
     "name": "stderr",
     "output_type": "stream",
     "text": [
      "100%|█████████████████████████████████████████████████████████████████████████████| 8268/8268 [01:13<00:00, 112.33it/s]\n",
      "100%|█████████████████████████████████████████████████████████████████████████████| 2062/2062 [00:06<00:00, 316.88it/s]\n"
     ]
    },
    {
     "name": "stdout",
     "output_type": "stream",
     "text": [
      "[001/1000] Train Acc: 0.443569 Loss: 1.946331 | Val Acc: 0.563150 loss: 1.444607\n",
      "saving model with acc 0.563\n"
     ]
    },
    {
     "name": "stderr",
     "output_type": "stream",
     "text": [
      "100%|█████████████████████████████████████████████████████████████████████████████| 8268/8268 [01:12<00:00, 113.61it/s]\n",
      "100%|█████████████████████████████████████████████████████████████████████████████| 2062/2062 [00:07<00:00, 292.42it/s]\n"
     ]
    },
    {
     "name": "stdout",
     "output_type": "stream",
     "text": [
      "[002/1000] Train Acc: 0.557608 Loss: 1.459488 | Val Acc: 0.615252 loss: 1.249512\n",
      "saving model with acc 0.615\n"
     ]
    },
    {
     "name": "stderr",
     "output_type": "stream",
     "text": [
      "100%|█████████████████████████████████████████████████████████████████████████████| 8268/8268 [01:10<00:00, 116.96it/s]\n",
      "100%|█████████████████████████████████████████████████████████████████████████████| 2062/2062 [00:06<00:00, 313.85it/s]\n"
     ]
    },
    {
     "name": "stdout",
     "output_type": "stream",
     "text": [
      "[003/1000] Train Acc: 0.594479 Loss: 1.324085 | Val Acc: 0.641979 loss: 1.154950\n",
      "saving model with acc 0.642\n"
     ]
    },
    {
     "name": "stderr",
     "output_type": "stream",
     "text": [
      "100%|█████████████████████████████████████████████████████████████████████████████| 8268/8268 [01:10<00:00, 117.20it/s]\n",
      "100%|█████████████████████████████████████████████████████████████████████████████| 2062/2062 [00:06<00:00, 321.82it/s]\n"
     ]
    },
    {
     "name": "stdout",
     "output_type": "stream",
     "text": [
      "[004/1000] Train Acc: 0.616137 Loss: 1.245472 | Val Acc: 0.658648 loss: 1.093996\n",
      "saving model with acc 0.659\n"
     ]
    },
    {
     "name": "stderr",
     "output_type": "stream",
     "text": [
      "100%|█████████████████████████████████████████████████████████████████████████████| 8268/8268 [01:10<00:00, 116.65it/s]\n",
      "100%|█████████████████████████████████████████████████████████████████████████████| 2062/2062 [00:06<00:00, 319.50it/s]\n"
     ]
    },
    {
     "name": "stdout",
     "output_type": "stream",
     "text": [
      "[005/1000] Train Acc: 0.631729 Loss: 1.189318 | Val Acc: 0.671481 loss: 1.050460\n",
      "saving model with acc 0.671\n"
     ]
    },
    {
     "name": "stderr",
     "output_type": "stream",
     "text": [
      "100%|█████████████████████████████████████████████████████████████████████████████| 8268/8268 [01:10<00:00, 116.81it/s]\n",
      "100%|█████████████████████████████████████████████████████████████████████████████| 2062/2062 [00:06<00:00, 321.92it/s]\n"
     ]
    },
    {
     "name": "stdout",
     "output_type": "stream",
     "text": [
      "[006/1000] Train Acc: 0.643178 Loss: 1.147266 | Val Acc: 0.681328 loss: 1.017529\n",
      "saving model with acc 0.681\n"
     ]
    },
    {
     "name": "stderr",
     "output_type": "stream",
     "text": [
      "100%|█████████████████████████████████████████████████████████████████████████████| 8268/8268 [01:10<00:00, 116.97it/s]\n",
      "100%|█████████████████████████████████████████████████████████████████████████████| 2062/2062 [00:06<00:00, 316.42it/s]\n"
     ]
    },
    {
     "name": "stdout",
     "output_type": "stream",
     "text": [
      "[007/1000] Train Acc: 0.653321 Loss: 1.112945 | Val Acc: 0.688586 loss: 0.991703\n",
      "saving model with acc 0.689\n"
     ]
    },
    {
     "name": "stderr",
     "output_type": "stream",
     "text": [
      "100%|█████████████████████████████████████████████████████████████████████████████| 8268/8268 [01:10<00:00, 116.68it/s]\n",
      "100%|█████████████████████████████████████████████████████████████████████████████| 2062/2062 [00:06<00:00, 316.91it/s]\n"
     ]
    },
    {
     "name": "stdout",
     "output_type": "stream",
     "text": [
      "[008/1000] Train Acc: 0.661281 Loss: 1.084270 | Val Acc: 0.692325 loss: 0.977831\n",
      "saving model with acc 0.692\n"
     ]
    },
    {
     "name": "stderr",
     "output_type": "stream",
     "text": [
      "100%|█████████████████████████████████████████████████████████████████████████████| 8268/8268 [01:10<00:00, 116.96it/s]\n",
      "100%|█████████████████████████████████████████████████████████████████████████████| 2062/2062 [00:06<00:00, 321.94it/s]\n"
     ]
    },
    {
     "name": "stdout",
     "output_type": "stream",
     "text": [
      "[009/1000] Train Acc: 0.668268 Loss: 1.059893 | Val Acc: 0.697961 loss: 0.957664\n",
      "saving model with acc 0.698\n"
     ]
    },
    {
     "name": "stderr",
     "output_type": "stream",
     "text": [
      "100%|█████████████████████████████████████████████████████████████████████████████| 8268/8268 [01:10<00:00, 116.49it/s]\n",
      "100%|█████████████████████████████████████████████████████████████████████████████| 2062/2062 [00:06<00:00, 320.04it/s]\n"
     ]
    },
    {
     "name": "stdout",
     "output_type": "stream",
     "text": [
      "[010/1000] Train Acc: 0.674598 Loss: 1.037570 | Val Acc: 0.704093 loss: 0.936570\n",
      "saving model with acc 0.704\n"
     ]
    },
    {
     "name": "stderr",
     "output_type": "stream",
     "text": [
      "100%|█████████████████████████████████████████████████████████████████████████████| 8268/8268 [01:10<00:00, 116.84it/s]\n",
      "100%|█████████████████████████████████████████████████████████████████████████████| 2062/2062 [00:06<00:00, 296.95it/s]\n"
     ]
    },
    {
     "name": "stdout",
     "output_type": "stream",
     "text": [
      "[011/1000] Train Acc: 0.680348 Loss: 1.018133 | Val Acc: 0.709023 loss: 0.921446\n",
      "saving model with acc 0.709\n"
     ]
    },
    {
     "name": "stderr",
     "output_type": "stream",
     "text": [
      "100%|█████████████████████████████████████████████████████████████████████████████| 8268/8268 [01:10<00:00, 117.07it/s]\n",
      "100%|█████████████████████████████████████████████████████████████████████████████| 2062/2062 [00:06<00:00, 314.59it/s]\n"
     ]
    },
    {
     "name": "stdout",
     "output_type": "stream",
     "text": [
      "[012/1000] Train Acc: 0.685247 Loss: 1.001215 | Val Acc: 0.711325 loss: 0.913346\n",
      "saving model with acc 0.711\n"
     ]
    },
    {
     "name": "stderr",
     "output_type": "stream",
     "text": [
      "100%|█████████████████████████████████████████████████████████████████████████████| 8268/8268 [01:11<00:00, 115.88it/s]\n",
      "100%|█████████████████████████████████████████████████████████████████████████████| 2062/2062 [00:06<00:00, 309.82it/s]\n"
     ]
    },
    {
     "name": "stdout",
     "output_type": "stream",
     "text": [
      "[013/1000] Train Acc: 0.689536 Loss: 0.984570 | Val Acc: 0.715817 loss: 0.897753\n",
      "saving model with acc 0.716\n"
     ]
    },
    {
     "name": "stderr",
     "output_type": "stream",
     "text": [
      "100%|█████████████████████████████████████████████████████████████████████████████| 8268/8268 [01:12<00:00, 114.53it/s]\n",
      "100%|█████████████████████████████████████████████████████████████████████████████| 2062/2062 [00:06<00:00, 315.69it/s]\n"
     ]
    },
    {
     "name": "stdout",
     "output_type": "stream",
     "text": [
      "[014/1000] Train Acc: 0.694406 Loss: 0.969333 | Val Acc: 0.718377 loss: 0.891013\n",
      "saving model with acc 0.718\n"
     ]
    },
    {
     "name": "stderr",
     "output_type": "stream",
     "text": [
      "100%|█████████████████████████████████████████████████████████████████████████████| 8268/8268 [01:12<00:00, 114.23it/s]\n",
      "100%|█████████████████████████████████████████████████████████████████████████████| 2062/2062 [00:06<00:00, 295.82it/s]\n"
     ]
    },
    {
     "name": "stdout",
     "output_type": "stream",
     "text": [
      "[015/1000] Train Acc: 0.698421 Loss: 0.955576 | Val Acc: 0.720948 loss: 0.883226\n",
      "saving model with acc 0.721\n"
     ]
    },
    {
     "name": "stderr",
     "output_type": "stream",
     "text": [
      "100%|█████████████████████████████████████████████████████████████████████████████| 8268/8268 [01:11<00:00, 115.55it/s]\n",
      "100%|█████████████████████████████████████████████████████████████████████████████| 2062/2062 [00:06<00:00, 313.38it/s]\n"
     ]
    },
    {
     "name": "stdout",
     "output_type": "stream",
     "text": [
      "[016/1000] Train Acc: 0.702107 Loss: 0.942069 | Val Acc: 0.723920 loss: 0.873353\n",
      "saving model with acc 0.724\n"
     ]
    },
    {
     "name": "stderr",
     "output_type": "stream",
     "text": [
      "100%|█████████████████████████████████████████████████████████████████████████████| 8268/8268 [01:11<00:00, 115.45it/s]\n",
      "100%|█████████████████████████████████████████████████████████████████████████████| 2062/2062 [00:06<00:00, 315.38it/s]\n"
     ]
    },
    {
     "name": "stdout",
     "output_type": "stream",
     "text": [
      "[017/1000] Train Acc: 0.705574 Loss: 0.930655 | Val Acc: 0.725664 loss: 0.865798\n",
      "saving model with acc 0.726\n"
     ]
    },
    {
     "name": "stderr",
     "output_type": "stream",
     "text": [
      "100%|█████████████████████████████████████████████████████████████████████████████| 8268/8268 [01:11<00:00, 115.21it/s]\n",
      "100%|█████████████████████████████████████████████████████████████████████████████| 2062/2062 [00:06<00:00, 321.25it/s]\n"
     ]
    },
    {
     "name": "stdout",
     "output_type": "stream",
     "text": [
      "[018/1000] Train Acc: 0.708809 Loss: 0.919234 | Val Acc: 0.727909 loss: 0.858652\n",
      "saving model with acc 0.728\n"
     ]
    },
    {
     "name": "stderr",
     "output_type": "stream",
     "text": [
      "100%|█████████████████████████████████████████████████████████████████████████████| 8268/8268 [01:11<00:00, 115.50it/s]\n",
      "100%|█████████████████████████████████████████████████████████████████████████████| 2062/2062 [00:06<00:00, 318.79it/s]\n"
     ]
    },
    {
     "name": "stdout",
     "output_type": "stream",
     "text": [
      "[019/1000] Train Acc: 0.711922 Loss: 0.908011 | Val Acc: 0.730056 loss: 0.852954\n",
      "saving model with acc 0.730\n"
     ]
    },
    {
     "name": "stderr",
     "output_type": "stream",
     "text": [
      "100%|█████████████████████████████████████████████████████████████████████████████| 8268/8268 [01:11<00:00, 115.68it/s]\n",
      "100%|█████████████████████████████████████████████████████████████████████████████| 2062/2062 [00:06<00:00, 316.30it/s]\n"
     ]
    },
    {
     "name": "stdout",
     "output_type": "stream",
     "text": [
      "[020/1000] Train Acc: 0.714971 Loss: 0.897529 | Val Acc: 0.732011 loss: 0.845084\n",
      "saving model with acc 0.732\n"
     ]
    },
    {
     "name": "stderr",
     "output_type": "stream",
     "text": [
      "100%|█████████████████████████████████████████████████████████████████████████████| 8268/8268 [01:11<00:00, 116.18it/s]\n",
      "100%|█████████████████████████████████████████████████████████████████████████████| 2062/2062 [00:06<00:00, 298.41it/s]\n"
     ]
    },
    {
     "name": "stdout",
     "output_type": "stream",
     "text": [
      "[021/1000] Train Acc: 0.718236 Loss: 0.887342 | Val Acc: 0.734014 loss: 0.840053\n",
      "saving model with acc 0.734\n"
     ]
    },
    {
     "name": "stderr",
     "output_type": "stream",
     "text": [
      "100%|█████████████████████████████████████████████████████████████████████████████| 8268/8268 [01:11<00:00, 114.95it/s]\n",
      "100%|█████████████████████████████████████████████████████████████████████████████| 2062/2062 [00:06<00:00, 316.34it/s]\n"
     ]
    },
    {
     "name": "stdout",
     "output_type": "stream",
     "text": [
      "[022/1000] Train Acc: 0.720771 Loss: 0.878525 | Val Acc: 0.735309 loss: 0.834310\n",
      "saving model with acc 0.735\n"
     ]
    },
    {
     "name": "stderr",
     "output_type": "stream",
     "text": [
      "100%|█████████████████████████████████████████████████████████████████████████████| 8268/8268 [01:11<00:00, 116.18it/s]\n",
      "100%|█████████████████████████████████████████████████████████████████████████████| 2062/2062 [00:06<00:00, 318.99it/s]\n"
     ]
    },
    {
     "name": "stdout",
     "output_type": "stream",
     "text": [
      "[023/1000] Train Acc: 0.723189 Loss: 0.869726 | Val Acc: 0.736912 loss: 0.829092\n",
      "saving model with acc 0.737\n"
     ]
    },
    {
     "name": "stderr",
     "output_type": "stream",
     "text": [
      "100%|█████████████████████████████████████████████████████████████████████████████| 8268/8268 [01:11<00:00, 115.67it/s]\n",
      "100%|█████████████████████████████████████████████████████████████████████████████| 2062/2062 [00:06<00:00, 309.94it/s]\n"
     ]
    },
    {
     "name": "stdout",
     "output_type": "stream",
     "text": [
      "[024/1000] Train Acc: 0.725693 Loss: 0.860772 | Val Acc: 0.738426 loss: 0.825205\n",
      "saving model with acc 0.738\n"
     ]
    },
    {
     "name": "stderr",
     "output_type": "stream",
     "text": [
      "100%|█████████████████████████████████████████████████████████████████████████████| 8268/8268 [01:11<00:00, 115.72it/s]\n",
      "100%|█████████████████████████████████████████████████████████████████████████████| 2062/2062 [00:06<00:00, 316.31it/s]\n"
     ]
    },
    {
     "name": "stdout",
     "output_type": "stream",
     "text": [
      "[025/1000] Train Acc: 0.728001 Loss: 0.852948 | Val Acc: 0.738998 loss: 0.823327\n",
      "saving model with acc 0.739\n"
     ]
    },
    {
     "name": "stderr",
     "output_type": "stream",
     "text": [
      "100%|█████████████████████████████████████████████████████████████████████████████| 8268/8268 [01:11<00:00, 115.70it/s]\n",
      "100%|█████████████████████████████████████████████████████████████████████████████| 2062/2062 [00:06<00:00, 317.21it/s]\n"
     ]
    },
    {
     "name": "stdout",
     "output_type": "stream",
     "text": [
      "[026/1000] Train Acc: 0.730191 Loss: 0.845292 | Val Acc: 0.741073 loss: 0.818659\n",
      "saving model with acc 0.741\n"
     ]
    },
    {
     "name": "stderr",
     "output_type": "stream",
     "text": [
      "100%|█████████████████████████████████████████████████████████████████████████████| 8268/8268 [01:11<00:00, 116.10it/s]\n",
      "100%|█████████████████████████████████████████████████████████████████████████████| 2062/2062 [00:06<00:00, 317.93it/s]\n"
     ]
    },
    {
     "name": "stdout",
     "output_type": "stream",
     "text": [
      "[027/1000] Train Acc: 0.732741 Loss: 0.836920 | Val Acc: 0.741666 loss: 0.814777\n",
      "saving model with acc 0.742\n"
     ]
    },
    {
     "name": "stderr",
     "output_type": "stream",
     "text": [
      "100%|█████████████████████████████████████████████████████████████████████████████| 8268/8268 [01:11<00:00, 116.02it/s]\n",
      "100%|█████████████████████████████████████████████████████████████████████████████| 2062/2062 [00:06<00:00, 320.18it/s]\n"
     ]
    },
    {
     "name": "stdout",
     "output_type": "stream",
     "text": [
      "[028/1000] Train Acc: 0.734970 Loss: 0.829699 | Val Acc: 0.742858 loss: 0.812758\n",
      "saving model with acc 0.743\n"
     ]
    },
    {
     "name": "stderr",
     "output_type": "stream",
     "text": [
      "100%|█████████████████████████████████████████████████████████████████████████████| 8268/8268 [01:10<00:00, 116.64it/s]\n",
      "100%|█████████████████████████████████████████████████████████████████████████████| 2062/2062 [00:06<00:00, 315.91it/s]\n"
     ]
    },
    {
     "name": "stdout",
     "output_type": "stream",
     "text": [
      "[029/1000] Train Acc: 0.736825 Loss: 0.822548 | Val Acc: 0.743576 loss: 0.811249\n",
      "saving model with acc 0.744\n"
     ]
    },
    {
     "name": "stderr",
     "output_type": "stream",
     "text": [
      "100%|█████████████████████████████████████████████████████████████████████████████| 8268/8268 [01:11<00:00, 115.49it/s]\n",
      "100%|█████████████████████████████████████████████████████████████████████████████| 2062/2062 [00:06<00:00, 318.89it/s]\n"
     ]
    },
    {
     "name": "stdout",
     "output_type": "stream",
     "text": [
      "[030/1000] Train Acc: 0.739153 Loss: 0.815613 | Val Acc: 0.744571 loss: 0.806903\n",
      "saving model with acc 0.745\n"
     ]
    },
    {
     "name": "stderr",
     "output_type": "stream",
     "text": [
      "100%|█████████████████████████████████████████████████████████████████████████████| 8268/8268 [01:11<00:00, 116.20it/s]\n",
      "100%|█████████████████████████████████████████████████████████████████████████████| 2062/2062 [00:06<00:00, 319.62it/s]\n"
     ]
    },
    {
     "name": "stdout",
     "output_type": "stream",
     "text": [
      "[031/1000] Train Acc: 0.741267 Loss: 0.808791 | Val Acc: 0.746035 loss: 0.802458\n",
      "saving model with acc 0.746\n"
     ]
    },
    {
     "name": "stderr",
     "output_type": "stream",
     "text": [
      "100%|█████████████████████████████████████████████████████████████████████████████| 8268/8268 [01:11<00:00, 116.18it/s]\n",
      "100%|█████████████████████████████████████████████████████████████████████████████| 2062/2062 [00:06<00:00, 308.51it/s]\n"
     ]
    },
    {
     "name": "stdout",
     "output_type": "stream",
     "text": [
      "[032/1000] Train Acc: 0.742692 Loss: 0.802955 | Val Acc: 0.746562 loss: 0.801003\n",
      "saving model with acc 0.747\n"
     ]
    },
    {
     "name": "stderr",
     "output_type": "stream",
     "text": [
      "100%|█████████████████████████████████████████████████████████████████████████████| 8268/8268 [01:11<00:00, 116.19it/s]\n",
      "100%|█████████████████████████████████████████████████████████████████████████████| 2062/2062 [00:06<00:00, 312.28it/s]\n"
     ]
    },
    {
     "name": "stdout",
     "output_type": "stream",
     "text": [
      "[033/1000] Train Acc: 0.744780 Loss: 0.795701 | Val Acc: 0.747261 loss: 0.798443\n",
      "saving model with acc 0.747\n"
     ]
    },
    {
     "name": "stderr",
     "output_type": "stream",
     "text": [
      "100%|█████████████████████████████████████████████████████████████████████████████| 8268/8268 [01:11<00:00, 116.33it/s]\n",
      "100%|█████████████████████████████████████████████████████████████████████████████| 2062/2062 [00:06<00:00, 317.49it/s]\n"
     ]
    },
    {
     "name": "stdout",
     "output_type": "stream",
     "text": [
      "[034/1000] Train Acc: 0.746206 Loss: 0.790270 | Val Acc: 0.748620 loss: 0.793029\n",
      "saving model with acc 0.749\n"
     ]
    },
    {
     "name": "stderr",
     "output_type": "stream",
     "text": [
      "100%|█████████████████████████████████████████████████████████████████████████████| 8268/8268 [01:11<00:00, 116.18it/s]\n",
      "100%|█████████████████████████████████████████████████████████████████████████████| 2062/2062 [00:06<00:00, 319.96it/s]\n"
     ]
    },
    {
     "name": "stdout",
     "output_type": "stream",
     "text": [
      "[035/1000] Train Acc: 0.748141 Loss: 0.784408 | Val Acc: 0.749173 loss: 0.794262\n",
      "saving model with acc 0.749\n"
     ]
    },
    {
     "name": "stderr",
     "output_type": "stream",
     "text": [
      "100%|█████████████████████████████████████████████████████████████████████████████| 8268/8268 [01:11<00:00, 116.15it/s]\n",
      "100%|█████████████████████████████████████████████████████████████████████████████| 2062/2062 [00:06<00:00, 308.32it/s]\n"
     ]
    },
    {
     "name": "stdout",
     "output_type": "stream",
     "text": [
      "[036/1000] Train Acc: 0.750078 Loss: 0.778278 | Val Acc: 0.749527 loss: 0.790669\n",
      "saving model with acc 0.750\n"
     ]
    },
    {
     "name": "stderr",
     "output_type": "stream",
     "text": [
      "100%|█████████████████████████████████████████████████████████████████████████████| 8268/8268 [01:11<00:00, 116.01it/s]\n",
      "100%|█████████████████████████████████████████████████████████████████████████████| 2062/2062 [00:06<00:00, 318.25it/s]\n"
     ]
    },
    {
     "name": "stdout",
     "output_type": "stream",
     "text": [
      "[037/1000] Train Acc: 0.751158 Loss: 0.773441 | Val Acc: 0.750261 loss: 0.790311\n",
      "saving model with acc 0.750\n"
     ]
    },
    {
     "name": "stderr",
     "output_type": "stream",
     "text": [
      "100%|█████████████████████████████████████████████████████████████████████████████| 8268/8268 [01:11<00:00, 116.10it/s]\n",
      "100%|█████████████████████████████████████████████████████████████████████████████| 2062/2062 [00:06<00:00, 314.90it/s]\n"
     ]
    },
    {
     "name": "stdout",
     "output_type": "stream",
     "text": [
      "[038/1000] Train Acc: 0.753339 Loss: 0.767410 | Val Acc: 0.752570 loss: 0.784044\n",
      "saving model with acc 0.753\n"
     ]
    },
    {
     "name": "stderr",
     "output_type": "stream",
     "text": [
      "100%|█████████████████████████████████████████████████████████████████████████████| 8268/8268 [01:11<00:00, 115.86it/s]\n",
      "100%|█████████████████████████████████████████████████████████████████████████████| 2062/2062 [00:06<00:00, 320.02it/s]\n"
     ]
    },
    {
     "name": "stdout",
     "output_type": "stream",
     "text": [
      "[039/1000] Train Acc: 0.754942 Loss: 0.761882 | Val Acc: 0.752199 loss: 0.785475\n"
     ]
    },
    {
     "name": "stderr",
     "output_type": "stream",
     "text": [
      "100%|█████████████████████████████████████████████████████████████████████████████| 8268/8268 [01:11<00:00, 115.62it/s]\n",
      "100%|█████████████████████████████████████████████████████████████████████████████| 2062/2062 [00:06<00:00, 320.72it/s]\n"
     ]
    },
    {
     "name": "stdout",
     "output_type": "stream",
     "text": [
      "[040/1000] Train Acc: 0.756165 Loss: 0.756829 | Val Acc: 0.752608 loss: 0.782269\n",
      "saving model with acc 0.753\n"
     ]
    },
    {
     "name": "stderr",
     "output_type": "stream",
     "text": [
      "100%|█████████████████████████████████████████████████████████████████████████████| 8268/8268 [01:11<00:00, 115.94it/s]\n",
      "100%|█████████████████████████████████████████████████████████████████████████████| 2062/2062 [00:06<00:00, 315.42it/s]\n"
     ]
    },
    {
     "name": "stdout",
     "output_type": "stream",
     "text": [
      "[041/1000] Train Acc: 0.758357 Loss: 0.750812 | Val Acc: 0.752724 loss: 0.781961\n",
      "saving model with acc 0.753\n"
     ]
    },
    {
     "name": "stderr",
     "output_type": "stream",
     "text": [
      "100%|█████████████████████████████████████████████████████████████████████████████| 8268/8268 [01:10<00:00, 116.55it/s]\n",
      "100%|█████████████████████████████████████████████████████████████████████████████| 2062/2062 [00:06<00:00, 314.48it/s]\n"
     ]
    },
    {
     "name": "stdout",
     "output_type": "stream",
     "text": [
      "[042/1000] Train Acc: 0.759254 Loss: 0.746357 | Val Acc: 0.753781 loss: 0.780587\n",
      "saving model with acc 0.754\n"
     ]
    },
    {
     "name": "stderr",
     "output_type": "stream",
     "text": [
      "100%|█████████████████████████████████████████████████████████████████████████████| 8268/8268 [01:11<00:00, 116.29it/s]\n",
      "100%|█████████████████████████████████████████████████████████████████████████████| 2062/2062 [00:06<00:00, 320.74it/s]\n"
     ]
    },
    {
     "name": "stdout",
     "output_type": "stream",
     "text": [
      "[043/1000] Train Acc: 0.760549 Loss: 0.742109 | Val Acc: 0.754819 loss: 0.778144\n",
      "saving model with acc 0.755\n"
     ]
    },
    {
     "name": "stderr",
     "output_type": "stream",
     "text": [
      "100%|█████████████████████████████████████████████████████████████████████████████| 8268/8268 [01:11<00:00, 115.16it/s]\n",
      "100%|█████████████████████████████████████████████████████████████████████████████| 2062/2062 [00:06<00:00, 320.06it/s]\n"
     ]
    },
    {
     "name": "stdout",
     "output_type": "stream",
     "text": [
      "[044/1000] Train Acc: 0.762370 Loss: 0.736379 | Val Acc: 0.755291 loss: 0.775992\n",
      "saving model with acc 0.755\n"
     ]
    },
    {
     "name": "stderr",
     "output_type": "stream",
     "text": [
      "100%|█████████████████████████████████████████████████████████████████████████████| 8268/8268 [01:11<00:00, 115.91it/s]\n",
      "100%|█████████████████████████████████████████████████████████████████████████████| 2062/2062 [00:06<00:00, 317.94it/s]\n"
     ]
    },
    {
     "name": "stdout",
     "output_type": "stream",
     "text": [
      "[045/1000] Train Acc: 0.763681 Loss: 0.732145 | Val Acc: 0.755348 loss: 0.776725\n",
      "saving model with acc 0.755\n"
     ]
    },
    {
     "name": "stderr",
     "output_type": "stream",
     "text": [
      "100%|█████████████████████████████████████████████████████████████████████████████| 8268/8268 [01:11<00:00, 116.12it/s]\n",
      "100%|█████████████████████████████████████████████████████████████████████████████| 2062/2062 [00:06<00:00, 313.49it/s]\n"
     ]
    },
    {
     "name": "stdout",
     "output_type": "stream",
     "text": [
      "[046/1000] Train Acc: 0.764776 Loss: 0.728473 | Val Acc: 0.756022 loss: 0.776049\n",
      "saving model with acc 0.756\n"
     ]
    },
    {
     "name": "stderr",
     "output_type": "stream",
     "text": [
      "100%|█████████████████████████████████████████████████████████████████████████████| 8268/8268 [01:11<00:00, 116.28it/s]\n",
      "100%|█████████████████████████████████████████████████████████████████████████████| 2062/2062 [00:06<00:00, 317.46it/s]\n"
     ]
    },
    {
     "name": "stdout",
     "output_type": "stream",
     "text": [
      "[047/1000] Train Acc: 0.765941 Loss: 0.723568 | Val Acc: 0.757157 loss: 0.773655\n",
      "saving model with acc 0.757\n"
     ]
    },
    {
     "name": "stderr",
     "output_type": "stream",
     "text": [
      "100%|█████████████████████████████████████████████████████████████████████████████| 8268/8268 [01:11<00:00, 115.90it/s]\n",
      "100%|█████████████████████████████████████████████████████████████████████████████| 2062/2062 [00:06<00:00, 320.44it/s]\n"
     ]
    },
    {
     "name": "stdout",
     "output_type": "stream",
     "text": [
      "[048/1000] Train Acc: 0.767488 Loss: 0.719067 | Val Acc: 0.757019 loss: 0.772262\n"
     ]
    },
    {
     "name": "stderr",
     "output_type": "stream",
     "text": [
      "100%|█████████████████████████████████████████████████████████████████████████████| 8268/8268 [01:11<00:00, 116.19it/s]\n",
      "100%|█████████████████████████████████████████████████████████████████████████████| 2062/2062 [00:06<00:00, 321.30it/s]\n"
     ]
    },
    {
     "name": "stdout",
     "output_type": "stream",
     "text": [
      "[049/1000] Train Acc: 0.768550 Loss: 0.713753 | Val Acc: 0.757477 loss: 0.773211\n",
      "saving model with acc 0.757\n"
     ]
    },
    {
     "name": "stderr",
     "output_type": "stream",
     "text": [
      "100%|█████████████████████████████████████████████████████████████████████████████| 8268/8268 [01:11<00:00, 115.73it/s]\n",
      "100%|█████████████████████████████████████████████████████████████████████████████| 2062/2062 [00:06<00:00, 312.98it/s]\n"
     ]
    },
    {
     "name": "stdout",
     "output_type": "stream",
     "text": [
      "[050/1000] Train Acc: 0.769877 Loss: 0.710636 | Val Acc: 0.758281 loss: 0.769236\n",
      "saving model with acc 0.758\n"
     ]
    },
    {
     "name": "stderr",
     "output_type": "stream",
     "text": [
      "100%|█████████████████████████████████████████████████████████████████████████████| 8268/8268 [01:10<00:00, 116.88it/s]\n",
      "100%|█████████████████████████████████████████████████████████████████████████████| 2062/2062 [00:06<00:00, 317.53it/s]\n"
     ]
    },
    {
     "name": "stdout",
     "output_type": "stream",
     "text": [
      "[051/1000] Train Acc: 0.770817 Loss: 0.706551 | Val Acc: 0.759726 loss: 0.767999\n",
      "saving model with acc 0.760\n"
     ]
    },
    {
     "name": "stderr",
     "output_type": "stream",
     "text": [
      "100%|█████████████████████████████████████████████████████████████████████████████| 8268/8268 [01:10<00:00, 116.45it/s]\n",
      "100%|█████████████████████████████████████████████████████████████████████████████| 2062/2062 [00:06<00:00, 320.58it/s]\n"
     ]
    },
    {
     "name": "stdout",
     "output_type": "stream",
     "text": [
      "[052/1000] Train Acc: 0.772678 Loss: 0.702753 | Val Acc: 0.758953 loss: 0.769416\n"
     ]
    },
    {
     "name": "stderr",
     "output_type": "stream",
     "text": [
      "100%|█████████████████████████████████████████████████████████████████████████████| 8268/8268 [01:11<00:00, 116.43it/s]\n",
      "100%|█████████████████████████████████████████████████████████████████████████████| 2062/2062 [00:06<00:00, 319.45it/s]\n"
     ]
    },
    {
     "name": "stdout",
     "output_type": "stream",
     "text": [
      "[053/1000] Train Acc: 0.773572 Loss: 0.698119 | Val Acc: 0.759160 loss: 0.770645\n"
     ]
    },
    {
     "name": "stderr",
     "output_type": "stream",
     "text": [
      "100%|█████████████████████████████████████████████████████████████████████████████| 8268/8268 [01:11<00:00, 115.64it/s]\n",
      "100%|█████████████████████████████████████████████████████████████████████████████| 2062/2062 [00:06<00:00, 317.91it/s]\n"
     ]
    },
    {
     "name": "stdout",
     "output_type": "stream",
     "text": [
      "[054/1000] Train Acc: 0.774549 Loss: 0.694238 | Val Acc: 0.759122 loss: 0.770339\n"
     ]
    },
    {
     "name": "stderr",
     "output_type": "stream",
     "text": [
      "100%|█████████████████████████████████████████████████████████████████████████████| 8268/8268 [01:11<00:00, 116.21it/s]\n",
      "100%|█████████████████████████████████████████████████████████████████████████████| 2062/2062 [00:06<00:00, 312.46it/s]\n"
     ]
    },
    {
     "name": "stdout",
     "output_type": "stream",
     "text": [
      "[055/1000] Train Acc: 0.775683 Loss: 0.690338 | Val Acc: 0.760640 loss: 0.764540\n",
      "saving model with acc 0.761\n"
     ]
    },
    {
     "name": "stderr",
     "output_type": "stream",
     "text": [
      "100%|█████████████████████████████████████████████████████████████████████████████| 8268/8268 [01:11<00:00, 115.42it/s]\n",
      "100%|█████████████████████████████████████████████████████████████████████████████| 2062/2062 [00:06<00:00, 311.01it/s]\n"
     ]
    },
    {
     "name": "stdout",
     "output_type": "stream",
     "text": [
      "[056/1000] Train Acc: 0.776922 Loss: 0.686512 | Val Acc: 0.760587 loss: 0.765227\n"
     ]
    },
    {
     "name": "stderr",
     "output_type": "stream",
     "text": [
      "100%|█████████████████████████████████████████████████████████████████████████████| 8268/8268 [01:11<00:00, 115.63it/s]\n",
      "100%|█████████████████████████████████████████████████████████████████████████████| 2062/2062 [00:06<00:00, 319.26it/s]\n"
     ]
    },
    {
     "name": "stdout",
     "output_type": "stream",
     "text": [
      "[057/1000] Train Acc: 0.777917 Loss: 0.683283 | Val Acc: 0.761208 loss: 0.764700\n",
      "saving model with acc 0.761\n"
     ]
    },
    {
     "name": "stderr",
     "output_type": "stream",
     "text": [
      "100%|█████████████████████████████████████████████████████████████████████████████| 8268/8268 [01:11<00:00, 116.18it/s]\n",
      "100%|█████████████████████████████████████████████████████████████████████████████| 2062/2062 [00:06<00:00, 318.97it/s]\n"
     ]
    },
    {
     "name": "stdout",
     "output_type": "stream",
     "text": [
      "[058/1000] Train Acc: 0.779400 Loss: 0.679177 | Val Acc: 0.761212 loss: 0.765446\n",
      "saving model with acc 0.761\n"
     ]
    },
    {
     "name": "stderr",
     "output_type": "stream",
     "text": [
      "100%|█████████████████████████████████████████████████████████████████████████████| 8268/8268 [01:11<00:00, 116.37it/s]\n",
      "100%|█████████████████████████████████████████████████████████████████████████████| 2062/2062 [00:06<00:00, 305.17it/s]\n"
     ]
    },
    {
     "name": "stdout",
     "output_type": "stream",
     "text": [
      "[059/1000] Train Acc: 0.780099 Loss: 0.675857 | Val Acc: 0.761614 loss: 0.763134\n",
      "saving model with acc 0.762\n"
     ]
    },
    {
     "name": "stderr",
     "output_type": "stream",
     "text": [
      "100%|█████████████████████████████████████████████████████████████████████████████| 8268/8268 [01:11<00:00, 116.08it/s]\n",
      "100%|█████████████████████████████████████████████████████████████████████████████| 2062/2062 [00:06<00:00, 319.48it/s]\n"
     ]
    },
    {
     "name": "stdout",
     "output_type": "stream",
     "text": [
      "[060/1000] Train Acc: 0.780944 Loss: 0.672973 | Val Acc: 0.760803 loss: 0.765844\n"
     ]
    },
    {
     "name": "stderr",
     "output_type": "stream",
     "text": [
      "100%|█████████████████████████████████████████████████████████████████████████████| 8268/8268 [01:11<00:00, 116.21it/s]\n",
      "100%|█████████████████████████████████████████████████████████████████████████████| 2062/2062 [00:06<00:00, 321.53it/s]\n"
     ]
    },
    {
     "name": "stdout",
     "output_type": "stream",
     "text": [
      "[061/1000] Train Acc: 0.781983 Loss: 0.668722 | Val Acc: 0.762525 loss: 0.763291\n",
      "saving model with acc 0.763\n"
     ]
    },
    {
     "name": "stderr",
     "output_type": "stream",
     "text": [
      "100%|█████████████████████████████████████████████████████████████████████████████| 8268/8268 [01:11<00:00, 115.49it/s]\n",
      "100%|█████████████████████████████████████████████████████████████████████████████| 2062/2062 [00:06<00:00, 321.40it/s]\n"
     ]
    },
    {
     "name": "stdout",
     "output_type": "stream",
     "text": [
      "[062/1000] Train Acc: 0.782956 Loss: 0.665809 | Val Acc: 0.762629 loss: 0.761615\n",
      "saving model with acc 0.763\n"
     ]
    },
    {
     "name": "stderr",
     "output_type": "stream",
     "text": [
      "100%|█████████████████████████████████████████████████████████████████████████████| 8268/8268 [01:10<00:00, 116.59it/s]\n",
      "100%|█████████████████████████████████████████████████████████████████████████████| 2062/2062 [00:06<00:00, 315.17it/s]\n"
     ]
    },
    {
     "name": "stdout",
     "output_type": "stream",
     "text": [
      "[063/1000] Train Acc: 0.784097 Loss: 0.662729 | Val Acc: 0.762807 loss: 0.765209\n",
      "saving model with acc 0.763\n"
     ]
    },
    {
     "name": "stderr",
     "output_type": "stream",
     "text": [
      "100%|█████████████████████████████████████████████████████████████████████████████| 8268/8268 [01:11<00:00, 115.83it/s]\n",
      "100%|█████████████████████████████████████████████████████████████████████████████| 2062/2062 [00:06<00:00, 320.65it/s]\n"
     ]
    },
    {
     "name": "stdout",
     "output_type": "stream",
     "text": [
      "[064/1000] Train Acc: 0.784673 Loss: 0.659863 | Val Acc: 0.763114 loss: 0.761706\n",
      "saving model with acc 0.763\n"
     ]
    },
    {
     "name": "stderr",
     "output_type": "stream",
     "text": [
      "100%|█████████████████████████████████████████████████████████████████████████████| 8268/8268 [01:11<00:00, 116.30it/s]\n",
      "100%|█████████████████████████████████████████████████████████████████████████████| 2062/2062 [00:06<00:00, 321.69it/s]\n"
     ]
    },
    {
     "name": "stdout",
     "output_type": "stream",
     "text": [
      "[065/1000] Train Acc: 0.785987 Loss: 0.655454 | Val Acc: 0.763474 loss: 0.760858\n",
      "saving model with acc 0.763\n"
     ]
    },
    {
     "name": "stderr",
     "output_type": "stream",
     "text": [
      "100%|█████████████████████████████████████████████████████████████████████████████| 8268/8268 [01:11<00:00, 115.91it/s]\n",
      "100%|█████████████████████████████████████████████████████████████████████████████| 2062/2062 [00:06<00:00, 319.80it/s]\n"
     ]
    },
    {
     "name": "stdout",
     "output_type": "stream",
     "text": [
      "[066/1000] Train Acc: 0.786702 Loss: 0.652781 | Val Acc: 0.763175 loss: 0.761281\n"
     ]
    },
    {
     "name": "stderr",
     "output_type": "stream",
     "text": [
      "100%|█████████████████████████████████████████████████████████████████████████████| 8268/8268 [01:11<00:00, 115.88it/s]\n",
      "100%|█████████████████████████████████████████████████████████████████████████████| 2062/2062 [00:06<00:00, 314.40it/s]\n"
     ]
    },
    {
     "name": "stdout",
     "output_type": "stream",
     "text": [
      "[067/1000] Train Acc: 0.787936 Loss: 0.649296 | Val Acc: 0.763171 loss: 0.761234\n"
     ]
    },
    {
     "name": "stderr",
     "output_type": "stream",
     "text": [
      "100%|█████████████████████████████████████████████████████████████████████████████| 8268/8268 [01:11<00:00, 115.88it/s]\n",
      "100%|█████████████████████████████████████████████████████████████████████████████| 2062/2062 [00:06<00:00, 318.18it/s]\n"
     ]
    },
    {
     "name": "stdout",
     "output_type": "stream",
     "text": [
      "[068/1000] Train Acc: 0.788554 Loss: 0.646153 | Val Acc: 0.763472 loss: 0.759352\n"
     ]
    },
    {
     "name": "stderr",
     "output_type": "stream",
     "text": [
      "100%|█████████████████████████████████████████████████████████████████████████████| 8268/8268 [01:11<00:00, 115.58it/s]\n",
      "100%|█████████████████████████████████████████████████████████████████████████████| 2062/2062 [00:06<00:00, 320.53it/s]\n"
     ]
    },
    {
     "name": "stdout",
     "output_type": "stream",
     "text": [
      "[069/1000] Train Acc: 0.789365 Loss: 0.643791 | Val Acc: 0.763637 loss: 0.760466\n",
      "saving model with acc 0.764\n"
     ]
    },
    {
     "name": "stderr",
     "output_type": "stream",
     "text": [
      "100%|█████████████████████████████████████████████████████████████████████████████| 8268/8268 [01:11<00:00, 116.14it/s]\n",
      "100%|█████████████████████████████████████████████████████████████████████████████| 2062/2062 [00:06<00:00, 315.08it/s]\n"
     ]
    },
    {
     "name": "stdout",
     "output_type": "stream",
     "text": [
      "[070/1000] Train Acc: 0.790523 Loss: 0.640742 | Val Acc: 0.764223 loss: 0.761047\n",
      "saving model with acc 0.764\n"
     ]
    },
    {
     "name": "stderr",
     "output_type": "stream",
     "text": [
      "100%|█████████████████████████████████████████████████████████████████████████████| 8268/8268 [01:11<00:00, 116.08it/s]\n",
      "100%|█████████████████████████████████████████████████████████████████████████████| 2062/2062 [00:06<00:00, 313.74it/s]\n"
     ]
    },
    {
     "name": "stdout",
     "output_type": "stream",
     "text": [
      "[071/1000] Train Acc: 0.791847 Loss: 0.636869 | Val Acc: 0.763808 loss: 0.762461\n"
     ]
    },
    {
     "name": "stderr",
     "output_type": "stream",
     "text": [
      "100%|█████████████████████████████████████████████████████████████████████████████| 8268/8268 [01:11<00:00, 115.53it/s]\n",
      "100%|█████████████████████████████████████████████████████████████████████████████| 2062/2062 [00:06<00:00, 314.34it/s]\n"
     ]
    },
    {
     "name": "stdout",
     "output_type": "stream",
     "text": [
      "[072/1000] Train Acc: 0.792492 Loss: 0.634406 | Val Acc: 0.764622 loss: 0.765312\n",
      "saving model with acc 0.765\n"
     ]
    },
    {
     "name": "stderr",
     "output_type": "stream",
     "text": [
      "100%|█████████████████████████████████████████████████████████████████████████████| 8268/8268 [01:11<00:00, 115.98it/s]\n",
      "100%|█████████████████████████████████████████████████████████████████████████████| 2062/2062 [00:06<00:00, 317.94it/s]\n"
     ]
    },
    {
     "name": "stdout",
     "output_type": "stream",
     "text": [
      "[073/1000] Train Acc: 0.792441 Loss: 0.632507 | Val Acc: 0.764825 loss: 0.758849\n",
      "saving model with acc 0.765\n"
     ]
    },
    {
     "name": "stderr",
     "output_type": "stream",
     "text": [
      "100%|█████████████████████████████████████████████████████████████████████████████| 8268/8268 [01:11<00:00, 116.13it/s]\n",
      "100%|█████████████████████████████████████████████████████████████████████████████| 2062/2062 [00:06<00:00, 318.85it/s]\n"
     ]
    },
    {
     "name": "stdout",
     "output_type": "stream",
     "text": [
      "[074/1000] Train Acc: 0.793730 Loss: 0.628522 | Val Acc: 0.765511 loss: 0.758794\n",
      "saving model with acc 0.766\n"
     ]
    },
    {
     "name": "stderr",
     "output_type": "stream",
     "text": [
      "100%|█████████████████████████████████████████████████████████████████████████████| 8268/8268 [01:11<00:00, 115.50it/s]\n",
      "100%|█████████████████████████████████████████████████████████████████████████████| 2062/2062 [00:06<00:00, 318.94it/s]\n"
     ]
    },
    {
     "name": "stdout",
     "output_type": "stream",
     "text": [
      "[075/1000] Train Acc: 0.794657 Loss: 0.626331 | Val Acc: 0.764601 loss: 0.762316\n"
     ]
    },
    {
     "name": "stderr",
     "output_type": "stream",
     "text": [
      "100%|█████████████████████████████████████████████████████████████████████████████| 8268/8268 [01:11<00:00, 116.05it/s]\n",
      "100%|█████████████████████████████████████████████████████████████████████████████| 2062/2062 [00:06<00:00, 316.00it/s]\n"
     ]
    },
    {
     "name": "stdout",
     "output_type": "stream",
     "text": [
      "[076/1000] Train Acc: 0.795503 Loss: 0.623093 | Val Acc: 0.765166 loss: 0.760114\n"
     ]
    },
    {
     "name": "stderr",
     "output_type": "stream",
     "text": [
      "100%|█████████████████████████████████████████████████████████████████████████████| 8268/8268 [01:11<00:00, 115.34it/s]\n",
      "100%|█████████████████████████████████████████████████████████████████████████████| 2062/2062 [00:06<00:00, 318.90it/s]\n"
     ]
    },
    {
     "name": "stdout",
     "output_type": "stream",
     "text": [
      "[077/1000] Train Acc: 0.796124 Loss: 0.620499 | Val Acc: 0.765806 loss: 0.757232\n",
      "saving model with acc 0.766\n"
     ]
    },
    {
     "name": "stderr",
     "output_type": "stream",
     "text": [
      "100%|█████████████████████████████████████████████████████████████████████████████| 8268/8268 [01:11<00:00, 115.32it/s]\n",
      "100%|█████████████████████████████████████████████████████████████████████████████| 2062/2062 [00:06<00:00, 315.43it/s]\n"
     ]
    },
    {
     "name": "stdout",
     "output_type": "stream",
     "text": [
      "[078/1000] Train Acc: 0.797175 Loss: 0.618070 | Val Acc: 0.765229 loss: 0.760324\n"
     ]
    },
    {
     "name": "stderr",
     "output_type": "stream",
     "text": [
      "100%|█████████████████████████████████████████████████████████████████████████████| 8268/8268 [01:11<00:00, 116.20it/s]\n",
      "100%|█████████████████████████████████████████████████████████████████████████████| 2062/2062 [00:06<00:00, 321.46it/s]\n"
     ]
    },
    {
     "name": "stdout",
     "output_type": "stream",
     "text": [
      "[079/1000] Train Acc: 0.797840 Loss: 0.615699 | Val Acc: 0.764787 loss: 0.765052\n"
     ]
    },
    {
     "name": "stderr",
     "output_type": "stream",
     "text": [
      "100%|█████████████████████████████████████████████████████████████████████████████| 8268/8268 [01:11<00:00, 116.09it/s]\n",
      "100%|█████████████████████████████████████████████████████████████████████████████| 2062/2062 [00:06<00:00, 309.26it/s]\n"
     ]
    },
    {
     "name": "stdout",
     "output_type": "stream",
     "text": [
      "[080/1000] Train Acc: 0.798580 Loss: 0.613384 | Val Acc: 0.766280 loss: 0.759902\n",
      "saving model with acc 0.766\n"
     ]
    },
    {
     "name": "stderr",
     "output_type": "stream",
     "text": [
      "100%|█████████████████████████████████████████████████████████████████████████████| 8268/8268 [01:11<00:00, 115.98it/s]\n",
      "100%|█████████████████████████████████████████████████████████████████████████████| 2062/2062 [00:06<00:00, 318.37it/s]\n"
     ]
    },
    {
     "name": "stdout",
     "output_type": "stream",
     "text": [
      "[081/1000] Train Acc: 0.799409 Loss: 0.610657 | Val Acc: 0.766153 loss: 0.758665\n"
     ]
    },
    {
     "name": "stderr",
     "output_type": "stream",
     "text": [
      "100%|█████████████████████████████████████████████████████████████████████████████| 8268/8268 [01:11<00:00, 115.72it/s]\n",
      "100%|█████████████████████████████████████████████████████████████████████████████| 2062/2062 [00:06<00:00, 319.46it/s]\n"
     ]
    },
    {
     "name": "stdout",
     "output_type": "stream",
     "text": [
      "[082/1000] Train Acc: 0.800266 Loss: 0.607631 | Val Acc: 0.765049 loss: 0.762236\n"
     ]
    },
    {
     "name": "stderr",
     "output_type": "stream",
     "text": [
      "100%|█████████████████████████████████████████████████████████████████████████████| 8268/8268 [01:11<00:00, 116.13it/s]\n",
      "100%|█████████████████████████████████████████████████████████████████████████████| 2062/2062 [00:06<00:00, 318.85it/s]\n"
     ]
    },
    {
     "name": "stdout",
     "output_type": "stream",
     "text": [
      "[083/1000] Train Acc: 0.800681 Loss: 0.605880 | Val Acc: 0.766733 loss: 0.757808\n",
      "saving model with acc 0.767\n"
     ]
    },
    {
     "name": "stderr",
     "output_type": "stream",
     "text": [
      "100%|█████████████████████████████████████████████████████████████████████████████| 8268/8268 [01:11<00:00, 115.88it/s]\n",
      "100%|█████████████████████████████████████████████████████████████████████████████| 2062/2062 [00:06<00:00, 314.51it/s]\n"
     ]
    },
    {
     "name": "stdout",
     "output_type": "stream",
     "text": [
      "[084/1000] Train Acc: 0.801823 Loss: 0.602311 | Val Acc: 0.766769 loss: 0.759219\n",
      "saving model with acc 0.767\n"
     ]
    },
    {
     "name": "stderr",
     "output_type": "stream",
     "text": [
      "100%|█████████████████████████████████████████████████████████████████████████████| 8268/8268 [01:10<00:00, 116.59it/s]\n",
      "100%|█████████████████████████████████████████████████████████████████████████████| 2062/2062 [00:06<00:00, 315.61it/s]\n"
     ]
    },
    {
     "name": "stdout",
     "output_type": "stream",
     "text": [
      "[085/1000] Train Acc: 0.802400 Loss: 0.599734 | Val Acc: 0.766634 loss: 0.761349\n"
     ]
    },
    {
     "name": "stderr",
     "output_type": "stream",
     "text": [
      "100%|█████████████████████████████████████████████████████████████████████████████| 8268/8268 [01:11<00:00, 116.20it/s]\n",
      "100%|█████████████████████████████████████████████████████████████████████████████| 2062/2062 [00:06<00:00, 315.71it/s]\n"
     ]
    },
    {
     "name": "stdout",
     "output_type": "stream",
     "text": [
      "[086/1000] Train Acc: 0.802922 Loss: 0.597597 | Val Acc: 0.767080 loss: 0.761089\n",
      "saving model with acc 0.767\n"
     ]
    },
    {
     "name": "stderr",
     "output_type": "stream",
     "text": [
      "100%|█████████████████████████████████████████████████████████████████████████████| 8268/8268 [01:11<00:00, 115.89it/s]\n",
      "100%|█████████████████████████████████████████████████████████████████████████████| 2062/2062 [00:06<00:00, 318.46it/s]\n"
     ]
    },
    {
     "name": "stdout",
     "output_type": "stream",
     "text": [
      "[087/1000] Train Acc: 0.803950 Loss: 0.594929 | Val Acc: 0.766627 loss: 0.761727\n"
     ]
    },
    {
     "name": "stderr",
     "output_type": "stream",
     "text": [
      "100%|█████████████████████████████████████████████████████████████████████████████| 8268/8268 [01:11<00:00, 116.23it/s]\n",
      "100%|█████████████████████████████████████████████████████████████████████████████| 2062/2062 [00:06<00:00, 315.50it/s]\n"
     ]
    },
    {
     "name": "stdout",
     "output_type": "stream",
     "text": [
      "[088/1000] Train Acc: 0.804253 Loss: 0.593854 | Val Acc: 0.766705 loss: 0.761692\n"
     ]
    },
    {
     "name": "stderr",
     "output_type": "stream",
     "text": [
      "100%|█████████████████████████████████████████████████████████████████████████████| 8268/8268 [01:11<00:00, 116.12it/s]\n",
      "100%|█████████████████████████████████████████████████████████████████████████████| 2062/2062 [00:06<00:00, 315.29it/s]\n"
     ]
    },
    {
     "name": "stdout",
     "output_type": "stream",
     "text": [
      "[089/1000] Train Acc: 0.805034 Loss: 0.590963 | Val Acc: 0.767137 loss: 0.762791\n",
      "saving model with acc 0.767\n"
     ]
    },
    {
     "name": "stderr",
     "output_type": "stream",
     "text": [
      "100%|█████████████████████████████████████████████████████████████████████████████| 8268/8268 [01:11<00:00, 115.76it/s]\n",
      "100%|█████████████████████████████████████████████████████████████████████████████| 2062/2062 [00:06<00:00, 320.56it/s]\n"
     ]
    },
    {
     "name": "stdout",
     "output_type": "stream",
     "text": [
      "[090/1000] Train Acc: 0.805741 Loss: 0.588514 | Val Acc: 0.767282 loss: 0.763184\n",
      "saving model with acc 0.767\n"
     ]
    },
    {
     "name": "stderr",
     "output_type": "stream",
     "text": [
      "100%|█████████████████████████████████████████████████████████████████████████████| 8268/8268 [01:11<00:00, 116.15it/s]\n",
      "100%|█████████████████████████████████████████████████████████████████████████████| 2062/2062 [00:06<00:00, 321.91it/s]\n"
     ]
    },
    {
     "name": "stdout",
     "output_type": "stream",
     "text": [
      "[091/1000] Train Acc: 0.806502 Loss: 0.586085 | Val Acc: 0.767258 loss: 0.762826\n"
     ]
    },
    {
     "name": "stderr",
     "output_type": "stream",
     "text": [
      "100%|█████████████████████████████████████████████████████████████████████████████| 8268/8268 [01:11<00:00, 115.13it/s]\n",
      "100%|█████████████████████████████████████████████████████████████████████████████| 2062/2062 [00:06<00:00, 321.66it/s]\n"
     ]
    },
    {
     "name": "stdout",
     "output_type": "stream",
     "text": [
      "[092/1000] Train Acc: 0.806787 Loss: 0.584026 | Val Acc: 0.766498 loss: 0.763704\n"
     ]
    },
    {
     "name": "stderr",
     "output_type": "stream",
     "text": [
      "100%|█████████████████████████████████████████████████████████████████████████████| 8268/8268 [01:11<00:00, 116.30it/s]\n",
      "100%|█████████████████████████████████████████████████████████████████████████████| 2062/2062 [00:06<00:00, 314.48it/s]\n"
     ]
    },
    {
     "name": "stdout",
     "output_type": "stream",
     "text": [
      "[093/1000] Train Acc: 0.807257 Loss: 0.582518 | Val Acc: 0.768042 loss: 0.762741\n",
      "saving model with acc 0.768\n"
     ]
    },
    {
     "name": "stderr",
     "output_type": "stream",
     "text": [
      "100%|█████████████████████████████████████████████████████████████████████████████| 8268/8268 [01:11<00:00, 116.04it/s]\n",
      "100%|█████████████████████████████████████████████████████████████████████████████| 2062/2062 [00:06<00:00, 320.91it/s]\n"
     ]
    },
    {
     "name": "stdout",
     "output_type": "stream",
     "text": [
      "[094/1000] Train Acc: 0.807796 Loss: 0.580380 | Val Acc: 0.767514 loss: 0.763439\n"
     ]
    },
    {
     "name": "stderr",
     "output_type": "stream",
     "text": [
      "100%|█████████████████████████████████████████████████████████████████████████████| 8268/8268 [01:11<00:00, 115.90it/s]\n",
      "100%|█████████████████████████████████████████████████████████████████████████████| 2062/2062 [00:06<00:00, 319.76it/s]\n"
     ]
    },
    {
     "name": "stdout",
     "output_type": "stream",
     "text": [
      "[095/1000] Train Acc: 0.808911 Loss: 0.578251 | Val Acc: 0.768450 loss: 0.760425\n",
      "saving model with acc 0.768\n"
     ]
    },
    {
     "name": "stderr",
     "output_type": "stream",
     "text": [
      "100%|█████████████████████████████████████████████████████████████████████████████| 8268/8268 [01:11<00:00, 115.82it/s]\n",
      "100%|█████████████████████████████████████████████████████████████████████████████| 2062/2062 [00:06<00:00, 317.98it/s]\n"
     ]
    },
    {
     "name": "stdout",
     "output_type": "stream",
     "text": [
      "[096/1000] Train Acc: 0.808777 Loss: 0.576792 | Val Acc: 0.767489 loss: 0.763124\n"
     ]
    },
    {
     "name": "stderr",
     "output_type": "stream",
     "text": [
      "100%|█████████████████████████████████████████████████████████████████████████████| 8268/8268 [01:11<00:00, 115.80it/s]\n",
      "100%|█████████████████████████████████████████████████████████████████████████████| 2062/2062 [00:06<00:00, 309.53it/s]\n"
     ]
    },
    {
     "name": "stdout",
     "output_type": "stream",
     "text": [
      "[097/1000] Train Acc: 0.809784 Loss: 0.574230 | Val Acc: 0.767606 loss: 0.763041\n"
     ]
    },
    {
     "name": "stderr",
     "output_type": "stream",
     "text": [
      "100%|█████████████████████████████████████████████████████████████████████████████| 8268/8268 [01:12<00:00, 114.57it/s]\n",
      "100%|█████████████████████████████████████████████████████████████████████████████| 2062/2062 [00:06<00:00, 316.43it/s]\n"
     ]
    },
    {
     "name": "stdout",
     "output_type": "stream",
     "text": [
      "[098/1000] Train Acc: 0.810283 Loss: 0.572104 | Val Acc: 0.768031 loss: 0.766664\n"
     ]
    },
    {
     "name": "stderr",
     "output_type": "stream",
     "text": [
      "100%|█████████████████████████████████████████████████████████████████████████████| 8268/8268 [01:11<00:00, 115.38it/s]\n",
      "100%|█████████████████████████████████████████████████████████████████████████████| 2062/2062 [00:06<00:00, 318.40it/s]\n"
     ]
    },
    {
     "name": "stdout",
     "output_type": "stream",
     "text": [
      "[099/1000] Train Acc: 0.811148 Loss: 0.570311 | Val Acc: 0.767997 loss: 0.764875\n"
     ]
    },
    {
     "name": "stderr",
     "output_type": "stream",
     "text": [
      "100%|█████████████████████████████████████████████████████████████████████████████| 8268/8268 [01:11<00:00, 115.97it/s]\n",
      "100%|█████████████████████████████████████████████████████████████████████████████| 2062/2062 [00:06<00:00, 306.71it/s]\n"
     ]
    },
    {
     "name": "stdout",
     "output_type": "stream",
     "text": [
      "[100/1000] Train Acc: 0.811912 Loss: 0.567349 | Val Acc: 0.767934 loss: 0.768210\n"
     ]
    },
    {
     "name": "stderr",
     "output_type": "stream",
     "text": [
      "100%|█████████████████████████████████████████████████████████████████████████████| 8268/8268 [01:11<00:00, 116.00it/s]\n",
      "100%|█████████████████████████████████████████████████████████████████████████████| 2062/2062 [00:06<00:00, 317.02it/s]"
     ]
    },
    {
     "name": "stdout",
     "output_type": "stream",
     "text": [
      "[101/1000] Train Acc: 0.812449 Loss: 0.565787 | Val Acc: 0.767919 loss: 0.766403\n",
      "\n",
      "Model is not improving, so we halt the training session.\n"
     ]
    },
    {
     "name": "stderr",
     "output_type": "stream",
     "text": [
      "\n"
     ]
    }
   ],
   "source": [
    "best_acc = 0.0\n",
    "early_stop_count = 0.0\n",
    "\n",
    "for epoch in range(num_epoch):\n",
    "    train_acc = 0.0\n",
    "    train_loss = 0.0\n",
    "    val_acc = 0.0\n",
    "    val_loss = 0.0\n",
    "    \n",
    "    # training\n",
    "    model.train() # set the model to training mode\n",
    "    for i, batch in enumerate(tqdm(train_loader)):\n",
    "        features, labels = batch\n",
    "        features = features.to(device)\n",
    "        labels = labels.to(device)\n",
    "        \n",
    "        optimizer.zero_grad() \n",
    "        outputs = model(features) \n",
    "        \n",
    "        loss = criterion(outputs, labels)\n",
    "        loss.backward() \n",
    "        optimizer.step() \n",
    "        \n",
    "        _, train_pred = torch.max(outputs, 1) # get the index of the class with the highest probability\n",
    "        train_acc += (train_pred.detach() == labels.detach()).sum().item()\n",
    "        train_loss += loss.item()\n",
    "    \n",
    "    # validation\n",
    "    if len(val_set) > 0:\n",
    "        model.eval() # set the model to evaluation mode\n",
    "        with torch.no_grad():\n",
    "            for i, batch in enumerate(tqdm(val_loader)):\n",
    "                features, labels = batch\n",
    "                features = features.to(device)\n",
    "                labels = labels.to(device)\n",
    "                outputs = model(features)\n",
    "                \n",
    "                loss = criterion(outputs, labels) \n",
    "                \n",
    "                _, val_pred = torch.max(outputs, 1) \n",
    "                val_acc += (val_pred.cpu() == labels.cpu()).sum().item() # get the index of the class with the highest probability\n",
    "                val_loss += loss.item()\n",
    "\n",
    "            print('[{:03d}/{:03d}] Train Acc: {:3.6f} Loss: {:3.6f} | Val Acc: {:3.6f} loss: {:3.6f}'.format(\n",
    "                epoch + 1, num_epoch, train_acc/len(train_set), train_loss/len(train_loader), val_acc/len(val_set), val_loss/len(val_loader)\n",
    "            ))\n",
    "            if logToWandb:\n",
    "                wandb.log({'Acc/train':train_acc/len(train_set), 'epoch':epoch})\n",
    "                wandb.log({'Loss/train': train_loss/len(train_loader), 'epoch':epoch})\n",
    "                wandb.log({'Acc/valid':val_acc/len(val_set), 'epoch':epoch})\n",
    "                wandb.log({'Loss/valid':val_loss/len(val_loader), 'epoch':epoch})\n",
    "                wandb.log({'early_stop_count':early_stop_count})\n",
    "\n",
    "            # if the model improves, save a checkpoint at this epoch\n",
    "            if val_acc > best_acc:\n",
    "                early_stop_count = 0\n",
    "                best_acc = val_acc\n",
    "                torch.save(model.state_dict(), model_path)\n",
    "                print('saving model with acc {:.3f}'.format(best_acc/len(val_set)))\n",
    "                \n",
    "            else: \n",
    "                early_stop_count += 1\n",
    "            #print(early_stop_count)\n",
    "            if early_stop_count >= early_stop:\n",
    "                print('\\nModel is not improving, so we halt the training session.')\n",
    "                break\n",
    "    else:\n",
    "        print('[{:03d}/{:03d}] Train Acc: {:3.6f} Loss: {:3.6f}'.format(\n",
    "            epoch + 1, num_epoch, train_acc/len(train_set), train_loss/len(train_loader)\n",
    "        ))\n",
    "\n",
    "# if not validating, save the last epoch\n",
    "if len(val_set) == 0:\n",
    "    torch.save(model.state_dict(), model_path)\n",
    "    print('saving model at last epoch')\n"
   ]
  },
  {
   "cell_type": "code",
   "execution_count": 14,
   "metadata": {
    "colab": {
     "base_uri": "https://localhost:8080/"
    },
    "id": "ab33MxosWLmG",
    "outputId": "7ea97815-15cc-4afa-fa7e-b65460b91640"
   },
   "outputs": [
    {
     "data": {
      "text/plain": [
       "0"
      ]
     },
     "execution_count": 14,
     "metadata": {},
     "output_type": "execute_result"
    }
   ],
   "source": [
    "del train_loader, val_loader\n",
    "gc.collect()"
   ]
  },
  {
   "cell_type": "markdown",
   "metadata": {
    "id": "1Hi7jTn3PX-m"
   },
   "source": [
    "## Testing\n",
    "Create a testing dataset, and load model from the saved checkpoint."
   ]
  },
  {
   "cell_type": "code",
   "execution_count": 15,
   "metadata": {
    "colab": {
     "base_uri": "https://localhost:8080/"
    },
    "id": "VOG1Ou0PGrhc",
    "outputId": "81077fbc-a6ea-46b7-9a57-a690480fbb6b"
   },
   "outputs": [
    {
     "name": "stdout",
     "output_type": "stream",
     "text": [
      "[Dataset] - # phone classes: 41, number of utterances for test: 1078\n"
     ]
    },
    {
     "name": "stderr",
     "output_type": "stream",
     "text": [
      "1078it [00:06, 179.28it/s]"
     ]
    },
    {
     "name": "stdout",
     "output_type": "stream",
     "text": [
      "[INFO] test set\n",
      "torch.Size([646268, 1443])\n"
     ]
    },
    {
     "name": "stderr",
     "output_type": "stream",
     "text": [
      "\n"
     ]
    }
   ],
   "source": [
    "# load data\n",
    "test_X = preprocess_data(split='test', feat_dir='./libriphone/feat', phone_path='./libriphone', concat_nframes=concat_nframes)\n",
    "test_set = LibriDataset(test_X, None)\n",
    "test_loader = DataLoader(test_set, batch_size=batch_size, shuffle=False)"
   ]
  },
  {
   "cell_type": "code",
   "execution_count": 16,
   "metadata": {
    "colab": {
     "base_uri": "https://localhost:8080/"
    },
    "id": "ay0Fu8Ovkdad",
    "outputId": "a29d1dbc-3222-4cec-8f84-04475b77cceb"
   },
   "outputs": [
    {
     "data": {
      "text/plain": [
       "<All keys matched successfully>"
      ]
     },
     "execution_count": 16,
     "metadata": {},
     "output_type": "execute_result"
    }
   ],
   "source": [
    "# load model\n",
    "model = Classifier(input_dim=input_dim, hidden_layers=hidden_layers, hidden_dim=hidden_dim, drop_rate=drop_rate).to(device)\n",
    "# model = RNN(input_size=input_dim, hidden_size=hidden_dim, num_layers=hidden_layers, num_classes=41, drop_rate=drop_rate).to(device)\n",
    "model.load_state_dict(torch.load(model_path))"
   ]
  },
  {
   "cell_type": "markdown",
   "metadata": {
    "id": "zp-DV1p4r7Nz"
   },
   "source": [
    "Make prediction."
   ]
  },
  {
   "cell_type": "code",
   "execution_count": 17,
   "metadata": {
    "colab": {
     "base_uri": "https://localhost:8080/"
    },
    "id": "84HU5GGjPqR0",
    "outputId": "bbaaa8c5-d88c-4ef3-f7be-d75b208cd5df"
   },
   "outputs": [
    {
     "name": "stderr",
     "output_type": "stream",
     "text": [
      "100%|█████████████████████████████████████████████████████████████████████████████| 2525/2525 [00:07<00:00, 342.13it/s]\n"
     ]
    }
   ],
   "source": [
    "test_acc = 0.0\n",
    "test_lengths = 0\n",
    "pred = np.array([], dtype=np.int32)\n",
    "\n",
    "model.eval()\n",
    "with torch.no_grad():\n",
    "    for i, batch in enumerate(tqdm(test_loader)):\n",
    "        features = batch\n",
    "        features = features.to(device)\n",
    "\n",
    "        outputs = model(features)\n",
    "\n",
    "        _, test_pred = torch.max(outputs, 1) # get the index of the class with the highest probability\n",
    "        pred = np.concatenate((pred, test_pred.cpu().numpy()), axis=0)\n"
   ]
  },
  {
   "cell_type": "markdown",
   "metadata": {
    "id": "wyZqy40Prz0v"
   },
   "source": [
    "Write prediction to a CSV file.\n",
    "\n",
    "After finish running this block, download the file `prediction.csv` from the files section on the left-hand side and submit it to Kaggle."
   ]
  },
  {
   "cell_type": "code",
   "execution_count": 18,
   "metadata": {
    "id": "GuljYSPHcZir"
   },
   "outputs": [],
   "source": [
    "with open('prediction.csv', 'w') as f:\n",
    "    f.write('Id,Class\\n')\n",
    "    for i, y in enumerate(pred):\n",
    "        f.write('{},{}\\n'.format(i, y))"
   ]
  },
  {
   "cell_type": "code",
   "execution_count": 19,
   "metadata": {},
   "outputs": [
    {
     "data": {
      "text/html": [
       "<br/>Waiting for W&B process to finish, PID 6672... <strong style=\"color:green\">(success).</strong>"
      ],
      "text/plain": [
       "<IPython.core.display.HTML object>"
      ]
     },
     "metadata": {},
     "output_type": "display_data"
    },
    {
     "data": {
      "application/vnd.jupyter.widget-view+json": {
       "model_id": "",
       "version_major": 2,
       "version_minor": 0
      },
      "text/plain": [
       "VBox(children=(Label(value=' 0.00MB of 0.00MB uploaded (0.00MB deduped)\\r'), FloatProgress(value=1.0, max=1.0)…"
      ]
     },
     "metadata": {},
     "output_type": "display_data"
    },
    {
     "data": {
      "text/html": [
       "<style>\n",
       "    table.wandb td:nth-child(1) { padding: 0 10px; text-align: right }\n",
       "    .wandb-row { display: flex; flex-direction: row; flex-wrap: wrap; width: 100% }\n",
       "    .wandb-col { display: flex; flex-direction: column; flex-basis: 100%; flex: 1; padding: 10px; }\n",
       "    </style>\n",
       "<div class=\"wandb-row\"><div class=\"wandb-col\">\n",
       "<h3>Run history:</h3><br/><table class=\"wandb\"><tr><td>Acc/train</td><td>▁▄▅▅▅▆▆▆▆▆▆▇▇▇▇▇▇▇▇▇▇▇▇▇▇▇██████████████</td></tr><tr><td>Acc/valid</td><td>▁▄▅▅▆▆▆▇▇▇▇▇▇▇▇▇▇███████████████████████</td></tr><tr><td>Loss/train</td><td>█▅▄▄▃▃▃▃▃▂▂▂▂▂▂▂▂▂▂▂▂▂▂▂▂▁▁▁▁▁▁▁▁▁▁▁▁▁▁▁</td></tr><tr><td>Loss/valid</td><td>█▅▄▃▃▂▂▂▂▂▂▂▁▁▁▁▁▁▁▁▁▁▁▁▁▁▁▁▁▁▁▁▁▁▁▁▁▁▁▁</td></tr><tr><td>early_stop_count</td><td>▁▁▁▁▁▁▁▁▁▁▁▁▁▁▁▁▁▁▁▂▁▄▂▁▁▁▂▁▂▁▄▄▄▁▂▁▄▂▄█</td></tr><tr><td>epoch</td><td>▁▁▁▁▂▂▂▂▂▃▃▃▃▃▃▄▄▄▄▄▅▅▅▅▅▅▆▆▆▆▆▇▇▇▇▇▇███</td></tr></table><br/></div><div class=\"wandb-col\">\n",
       "<h3>Run summary:</h3><br/><table class=\"wandb\"><tr><td>Acc/train</td><td>0.81245</td></tr><tr><td>Acc/valid</td><td>0.76792</td></tr><tr><td>Loss/train</td><td>0.56579</td></tr><tr><td>Loss/valid</td><td>0.7664</td></tr><tr><td>early_stop_count</td><td>5</td></tr><tr><td>epoch</td><td>100</td></tr></table>\n",
       "</div></div>\n",
       "Synced 5 W&B file(s), 0 media file(s), 0 artifact file(s) and 0 other file(s)\n",
       "<br/>Synced <strong style=\"color:#cdcd00\">637</strong>: <a href=\"https://wandb.ai/yuting/ML2022Spring_HW2/runs/nabpx51y\" target=\"_blank\">https://wandb.ai/yuting/ML2022Spring_HW2/runs/nabpx51y</a><br/>\n",
       "Find logs at: <code>.\\wandb\\run-20220305_094413-nabpx51y\\logs</code><br/>\n"
      ],
      "text/plain": [
       "<IPython.core.display.HTML object>"
      ]
     },
     "metadata": {},
     "output_type": "display_data"
    }
   ],
   "source": [
    "if logToWandb:\n",
    "    wandb.finish()"
   ]
  },
  {
   "cell_type": "code",
   "execution_count": null,
   "metadata": {},
   "outputs": [],
   "source": []
  }
 ],
 "metadata": {
  "accelerator": "GPU",
  "colab": {
   "collapsed_sections": [],
   "name": "ML2022Spring - HW2.ipynb",
   "provenance": []
  },
  "kernelspec": {
   "display_name": "Python 3 (ipykernel)",
   "language": "python",
   "name": "python3"
  },
  "language_info": {
   "codemirror_mode": {
    "name": "ipython",
    "version": 3
   },
   "file_extension": ".py",
   "mimetype": "text/x-python",
   "name": "python",
   "nbconvert_exporter": "python",
   "pygments_lexer": "ipython3",
   "version": "3.9.8"
  }
 },
 "nbformat": 4,
 "nbformat_minor": 1
}
